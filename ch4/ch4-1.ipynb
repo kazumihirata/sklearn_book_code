{
 "cells": [
  {
   "cell_type": "code",
   "execution_count": 3,
   "metadata": {},
   "outputs": [
    {
     "name": "stdout",
     "output_type": "stream",
     "text": [
      "['en' 'th' 'ja']\n",
      "正解率 =  1.0\n"
     ]
    }
   ],
   "source": [
    "import numpy as np\n",
    "from sklearn.naive_bayes import GaussianNB\n",
    "from sklearn.metrics import accuracy_score\n",
    "\n",
    "def count_codePoint(str):\n",
    "    counter = np.zeros(65535)\n",
    "    \n",
    "    for i in range(len(str)):\n",
    "        code_point = ord(str[i])\n",
    "        if code_point > 65535:\n",
    "            continue\n",
    "        counter[code_point] += 1\n",
    "    counter = counter/len(str)\n",
    "    return counter\n",
    "\n",
    "ja_str = 'これは日本語の文章です'\n",
    "en_str = 'This is a pen.'\n",
    "th_str = 'สวัสดี ครับ'\n",
    "\n",
    "x_train = [count_codePoint(ja_str), count_codePoint(en_str), count_codePoint(th_str)]\n",
    "y_train = ['ja', 'en', 'th']\n",
    "\n",
    "clf = GaussianNB()\n",
    "clf.fit(x_train, y_train)\n",
    "\n",
    "ja_test_str = 'こんにちは'\n",
    "en_test_str = 'hello'\n",
    "th_test_str = 'สวัสดี ครับ'\n",
    "\n",
    "x_test = [count_codePoint(en_test_str), count_codePoint(th_test_str), count_codePoint(ja_test_str)]\n",
    "y_test = ['en', 'th', 'ja']\n",
    "\n",
    "y_pred = clf.predict(x_test)\n",
    "print(y_pred)\n",
    "print(\"正解率 = \", accuracy_score(y_test, y_pred))\n"
   ]
  },
  {
   "cell_type": "code",
   "execution_count": null,
   "metadata": {
    "collapsed": true
   },
   "outputs": [],
   "source": []
  }
 ],
 "metadata": {
  "kernelspec": {
   "display_name": "Python 3",
   "language": "python",
   "name": "python3"
  },
  "language_info": {
   "codemirror_mode": {
    "name": "ipython",
    "version": 3
   },
   "file_extension": ".py",
   "mimetype": "text/x-python",
   "name": "python",
   "nbconvert_exporter": "python",
   "pygments_lexer": "ipython3",
   "version": "3.6.5"
  }
 },
 "nbformat": 4,
 "nbformat_minor": 2
}
