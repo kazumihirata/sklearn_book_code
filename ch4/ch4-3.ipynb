{
 "cells": [
  {
   "cell_type": "code",
   "execution_count": 1,
   "metadata": {
    "collapsed": true
   },
   "outputs": [],
   "source": [
    "#  jawiki-latest-pages-articles.xml.bz2"
   ]
  },
  {
   "cell_type": "code",
   "execution_count": 2,
   "metadata": {
    "collapsed": true
   },
   "outputs": [],
   "source": [
    "!bzip2 -d jawiki-latest-pages-articles.xml.bz2"
   ]
  },
  {
   "cell_type": "code",
   "execution_count": 14,
   "metadata": {},
   "outputs": [
    {
     "name": "stdout",
     "output_type": "stream",
     "text": [
      "ruby 2.3.7p456 (2018-03-28 revision 63024) [universal.x86_64-darwin18]\r\n"
     ]
    }
   ],
   "source": [
    "# !apt-get install ruby2.3-dev\n",
    "!ruby -v"
   ]
  },
  {
   "cell_type": "code",
   "execution_count": 19,
   "metadata": {},
   "outputs": [],
   "source": [
    "# !gem install wp2txt"
   ]
  },
  {
   "cell_type": "code",
   "execution_count": 20,
   "metadata": {},
   "outputs": [],
   "source": [
    "# !wp2txt --input-file ./jawiki-latest-pages-articles.xml\n",
    "# !ls -la jawiki-latest-pages-articles.xml"
   ]
  },
  {
   "cell_type": "code",
   "execution_count": 21,
   "metadata": {},
   "outputs": [],
   "source": [
    "# !cat jawiki-latest-pages-articles-* > wiki.wp2txt"
   ]
  },
  {
   "cell_type": "code",
   "execution_count": 22,
   "metadata": {},
   "outputs": [],
   "source": [
    "# !mecab -b 100000 -Owakati wiki.txt -o wiki_wakati.txt"
   ]
  },
  {
   "cell_type": "code",
   "execution_count": 24,
   "metadata": {
    "scrolled": true
   },
   "outputs": [
    {
     "name": "stdout",
     "output_type": "stream",
     "text": [
      "Collecting gensim\n",
      "\u001b[?25l  Downloading https://files.pythonhosted.org/packages/7a/ed/70ec5b2601d21e1a3258228d8da563f94ffc86e84cd8a7f600da0c6ebad8/gensim-3.7.1-cp36-cp36m-macosx_10_6_intel.macosx_10_9_intel.macosx_10_9_x86_64.macosx_10_10_intel.macosx_10_10_x86_64.whl (24.6MB)\n",
      "\u001b[K    100% |████████████████████████████████| 24.7MB 1.8MB/s eta 0:00:01\n",
      "\u001b[?25hRequirement already satisfied: scipy>=0.18.1 in /usr/local/lib/python3.6/site-packages (from gensim) (0.19.1)\n",
      "Requirement already satisfied: numpy>=1.11.3 in /usr/local/lib/python3.6/site-packages (from gensim) (1.15.2)\n",
      "Requirement already satisfied: six>=1.5.0 in /usr/local/lib/python3.6/site-packages (from gensim) (1.10.0)\n",
      "Collecting smart-open>=1.7.0 (from gensim)\n",
      "\u001b[?25l  Downloading https://files.pythonhosted.org/packages/ff/c8/de7dcf34d4b5f2ae94fe1055e0d6418fb97a63c9dc3428edd264704983a2/smart_open-1.8.0.tar.gz (40kB)\n",
      "\u001b[K    100% |████████████████████████████████| 40kB 3.8MB/s ta 0:00:011\n",
      "\u001b[?25hCollecting boto>=2.32 (from smart-open>=1.7.0->gensim)\n",
      "\u001b[?25l  Downloading https://files.pythonhosted.org/packages/23/10/c0b78c27298029e4454a472a1919bde20cb182dab1662cec7f2ca1dcc523/boto-2.49.0-py2.py3-none-any.whl (1.4MB)\n",
      "\u001b[K    100% |████████████████████████████████| 1.4MB 8.9MB/s eta 0:00:01\n",
      "\u001b[?25hCollecting bz2file (from smart-open>=1.7.0->gensim)\n",
      "  Downloading https://files.pythonhosted.org/packages/61/39/122222b5e85cd41c391b68a99ee296584b2a2d1d233e7ee32b4532384f2d/bz2file-0.98.tar.gz\n",
      "Requirement already satisfied: requests in /usr/local/lib/python3.6/site-packages (from smart-open>=1.7.0->gensim) (2.19.1)\n",
      "Collecting boto3 (from smart-open>=1.7.0->gensim)\n",
      "\u001b[?25l  Downloading https://files.pythonhosted.org/packages/95/bd/8dc8a8484c49a4c75f3ae0b67e503397e8b932cc3278bd8fa1584aa568b2/boto3-1.9.94-py2.py3-none-any.whl (128kB)\n",
      "\u001b[K    100% |████████████████████████████████| 133kB 4.9MB/s ta 0:00:01\n",
      "\u001b[?25hRequirement already satisfied: certifi>=2017.4.17 in /usr/local/lib/python3.6/site-packages (from requests->smart-open>=1.7.0->gensim) (2018.4.16)\n",
      "Requirement already satisfied: urllib3<1.24,>=1.21.1 in /usr/local/lib/python3.6/site-packages (from requests->smart-open>=1.7.0->gensim) (1.23)\n",
      "Requirement already satisfied: idna<2.8,>=2.5 in /usr/local/lib/python3.6/site-packages (from requests->smart-open>=1.7.0->gensim) (2.7)\n",
      "Requirement already satisfied: chardet<3.1.0,>=3.0.2 in /usr/local/lib/python3.6/site-packages (from requests->smart-open>=1.7.0->gensim) (3.0.4)\n",
      "Collecting botocore<1.13.0,>=1.12.94 (from boto3->smart-open>=1.7.0->gensim)\n",
      "\u001b[?25l  Downloading https://files.pythonhosted.org/packages/79/83/de317aa925d335f5b88447b292e38e7252ada58e4825cf1bdfb75c0706aa/botocore-1.12.94-py2.py3-none-any.whl (5.3MB)\n",
      "\u001b[K    100% |████████████████████████████████| 5.3MB 5.2MB/s eta 0:00:01\n",
      "\u001b[?25hCollecting jmespath<1.0.0,>=0.7.1 (from boto3->smart-open>=1.7.0->gensim)\n",
      "  Downloading https://files.pythonhosted.org/packages/b7/31/05c8d001f7f87f0f07289a5fc0fc3832e9a57f2dbd4d3b0fee70e0d51365/jmespath-0.9.3-py2.py3-none-any.whl\n",
      "Collecting s3transfer<0.3.0,>=0.2.0 (from boto3->smart-open>=1.7.0->gensim)\n",
      "\u001b[?25l  Downloading https://files.pythonhosted.org/packages/d7/de/5737f602e22073ecbded7a0c590707085e154e32b68d86545dcc31004c02/s3transfer-0.2.0-py2.py3-none-any.whl (69kB)\n",
      "\u001b[K    100% |████████████████████████████████| 71kB 6.3MB/s ta 0:00:011\n",
      "\u001b[?25hCollecting docutils>=0.10 (from botocore<1.13.0,>=1.12.94->boto3->smart-open>=1.7.0->gensim)\n",
      "\u001b[?25l  Downloading https://files.pythonhosted.org/packages/36/fa/08e9e6e0e3cbd1d362c3bbee8d01d0aedb2155c4ac112b19ef3cae8eed8d/docutils-0.14-py3-none-any.whl (543kB)\n",
      "\u001b[K    100% |████████████████████████████████| 552kB 7.4MB/s ta 0:00:011\n",
      "\u001b[?25hRequirement already satisfied: python-dateutil<3.0.0,>=2.1; python_version >= \"2.7\" in /usr/local/lib/python3.6/site-packages (from botocore<1.13.0,>=1.12.94->boto3->smart-open>=1.7.0->gensim) (2.6.0)\n",
      "Building wheels for collected packages: smart-open, bz2file\n",
      "  Building wheel for smart-open (setup.py) ... \u001b[?25ldone\n",
      "\u001b[?25h  Stored in directory: /Users/kazumihirata/Library/Caches/pip/wheels/f7/a6/ff/9ab5842c14e50e95a06a4675b0b4a689c9cab6064dac2b01d0\n",
      "  Building wheel for bz2file (setup.py) ... \u001b[?25ldone\n",
      "\u001b[?25h  Stored in directory: /Users/kazumihirata/Library/Caches/pip/wheels/81/75/d6/e1317bf09bf1af5a30befc2a007869fa6e1f516b8f7c591cb9\n",
      "Successfully built smart-open bz2file\n",
      "Installing collected packages: boto, bz2file, jmespath, docutils, botocore, s3transfer, boto3, smart-open, gensim\n",
      "Successfully installed boto-2.49.0 boto3-1.9.94 botocore-1.12.94 bz2file-0.98 docutils-0.14 gensim-3.7.1 jmespath-0.9.3 s3transfer-0.2.0 smart-open-1.8.0\n",
      "\u001b[33mYou are using pip version 19.0.1, however version 19.0.2 is available.\n",
      "You should consider upgrading via the 'pip install --upgrade pip' command.\u001b[0m\n"
     ]
    }
   ],
   "source": [
    "!pip install gensim"
   ]
  },
  {
   "cell_type": "code",
   "execution_count": 30,
   "metadata": {
    "scrolled": true
   },
   "outputs": [],
   "source": [
    "# from gensim.models import word2vec\n",
    "\n",
    "# sentences = word2vec.Text8Corpus('./jawiki_wakachi.txt')\n",
    "\n",
    "\n",
    "\n",
    "# model = word2vec.Word2Vec(sentences, sg=1, size=100, window=5)\n",
    "\n",
    "# model.save(\"./wiki.model\")"
   ]
  },
  {
   "cell_type": "code",
   "execution_count": 31,
   "metadata": {},
   "outputs": [
    {
     "data": {
      "text/plain": [
       "'jawiki.model'"
      ]
     },
     "execution_count": 31,
     "metadata": {},
     "output_type": "execute_result"
    }
   ],
   "source": [
    " 'jawiki.model'"
   ]
  },
  {
   "cell_type": "code",
   "execution_count": 33,
   "metadata": {},
   "outputs": [],
   "source": [
    "from gensim.models import word2vec\n",
    "model = word2vec.Word2Vec.load(\"./jawiki.model\")\n",
    "results = model.wv.most_similar(positive=['業務'])"
   ]
  },
  {
   "cell_type": "code",
   "execution_count": 34,
   "metadata": {},
   "outputs": [
    {
     "name": "stdout",
     "output_type": "stream",
     "text": [
      "('事業', 0.741075873374939)\n",
      "('サービス', 0.7208023071289062)\n",
      "('アフターサービス', 0.7123936414718628)\n",
      "('配送', 0.7076438069343567)\n",
      "('受託', 0.7032516002655029)\n",
      "('配車', 0.6971219778060913)\n",
      "('取扱い', 0.6869938373565674)\n",
      "('窓口', 0.6869661211967468)\n",
      "('カスタマーサービス', 0.6812357306480408)\n",
      "('カスタマーサポート', 0.6802325248718262)\n"
     ]
    }
   ],
   "source": [
    "for result in results:\n",
    "    print(result)"
   ]
  },
  {
   "cell_type": "code",
   "execution_count": 35,
   "metadata": {},
   "outputs": [
    {
     "name": "stdout",
     "output_type": "stream",
     "text": [
      "('女王', 0.7166222333908081)\n",
      "('太子', 0.678939700126648)\n",
      "('ソンツェン・ガンポ', 0.6765456199645996)\n",
      "('馮氏', 0.6646471619606018)\n",
      "('寵姫', 0.6603200435638428)\n",
      "('蕭鏘', 0.6564862728118896)\n",
      "('ドルゴン', 0.6547478437423706)\n",
      "('落別', 0.6537181735038757)\n",
      "('王妃', 0.6529647707939148)\n",
      "('ホーゲ', 0.6478176116943359)\n"
     ]
    }
   ],
   "source": [
    "from gensim.models import word2vec\n",
    "model = word2vec.Word2Vec.load(\"./jawiki.model\")\n",
    "results = model.wv.most_similar(positive=['王', '女'], negative=['男'])\n",
    "for result in results:\n",
    "    print(result)"
   ]
  },
  {
   "cell_type": "code",
   "execution_count": 47,
   "metadata": {},
   "outputs": [],
   "source": [
    "import MeCab\n",
    "from gensim.models import word2vec\n",
    "\n",
    "model = word2vec.Word2Vec.load(\"./jawiki.model\")\n",
    "tagger = MeCab.Tagger(\"-d /usr/local/lib/mecab/dic/mecab-ipadic-neologd\")\n",
    "tagger.parse(\"\")\n",
    "\n",
    "def print_emargency(text):\n",
    "    print(text)\n",
    "    \n",
    "    node = tagger.parseToNode(text)\n",
    "    while node is not None:\n",
    "        fields = node.feature.split(\",\")\n",
    "        if fields[0] in ['名詞', '動詞', '形容詞']:\n",
    "            print(model.wv.similarity(node.surface, '至急'))\n",
    "        node = node.next"
   ]
  },
  {
   "cell_type": "code",
   "execution_count": 48,
   "metadata": {},
   "outputs": [
    {
     "name": "stdout",
     "output_type": "stream",
     "text": [
      "PCが起動しなくなりました。緊急です\n",
      "0.00274935\n",
      "0.21237575\n",
      "0.16374795\n",
      "0.19874151\n",
      "0.5347041\n"
     ]
    }
   ],
   "source": [
    "print_emargency(\"PCが起動しなくなりました。緊急です\")"
   ]
  },
  {
   "cell_type": "code",
   "execution_count": 49,
   "metadata": {},
   "outputs": [
    {
     "name": "stdout",
     "output_type": "stream",
     "text": [
      "どうやって使いますか？\n",
      "0.06098246\n",
      "0.09718441\n"
     ]
    }
   ],
   "source": [
    "print_emargency(\"どうやって使いますか？\")"
   ]
  },
  {
   "cell_type": "code",
   "execution_count": null,
   "metadata": {
    "collapsed": true
   },
   "outputs": [],
   "source": []
  }
 ],
 "metadata": {
  "kernelspec": {
   "display_name": "Python 3",
   "language": "python",
   "name": "python3"
  },
  "language_info": {
   "codemirror_mode": {
    "name": "ipython",
    "version": 3
   },
   "file_extension": ".py",
   "mimetype": "text/x-python",
   "name": "python",
   "nbconvert_exporter": "python",
   "pygments_lexer": "ipython3",
   "version": "3.6.5"
  }
 },
 "nbformat": 4,
 "nbformat_minor": 2
}
