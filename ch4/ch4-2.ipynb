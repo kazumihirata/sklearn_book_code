{
 "cells": [
  {
   "cell_type": "code",
   "execution_count": 5,
   "metadata": {},
   "outputs": [
    {
     "name": "stdout",
     "output_type": "stream",
     "text": [
      "今日\t名詞,副詞可能,*,*,*,*,今日,キョウ,キョー\n",
      "も\t助詞,係助詞,*,*,*,*,も,モ,モ\n",
      "お疲れ様\t感動詞,*,*,*,*,*,お疲れ様,オツカレサマ,オツカレサマ\n",
      "でし\t助動詞,*,*,*,特殊・デス,連用形,です,デシ,デシ\n",
      "た\t助動詞,*,*,*,特殊・タ,基本形,た,タ,タ\n",
      "！\t記号,一般,*,*,*,*,！,！,！\n",
      "トランプ\t名詞,一般,*,*,*,*,トランプ,トランプ,トランプ\n",
      "大統領\t名詞,一般,*,*,*,*,大統領,ダイトウリョウ,ダイトーリョー\n",
      "！\t記号,一般,*,*,*,*,！,！,！\n",
      "EOS\n",
      "\n"
     ]
    }
   ],
   "source": [
    "import MeCab\n",
    "tagger = MeCab.Tagger()\n",
    "result = tagger.parse(\"今日もお疲れ様でした！トランプ大統領！\")\n",
    "print(result)"
   ]
  },
  {
   "cell_type": "code",
   "execution_count": 6,
   "metadata": {},
   "outputs": [
    {
     "name": "stdout",
     "output_type": "stream",
     "text": [
      "今日\t名詞,副詞可能,*,*,*,*,今日,キョウ,キョー\n",
      "も\t助詞,係助詞,*,*,*,*,も,モ,モ\n",
      "お疲れ様\t感動詞,*,*,*,*,*,お疲れ様,オツカレサマ,オツカレサマ\n",
      "でし\t助動詞,*,*,*,特殊・デス,連用形,です,デシ,デシ\n",
      "た\t助動詞,*,*,*,特殊・タ,基本形,た,タ,タ\n",
      "！\t記号,一般,*,*,*,*,！,！,！\n",
      "トランプ大統領\t名詞,固有名詞,一般,*,*,*,トランプ大統領,トランプダイトウリョウ,トランプダイトウリョー\n",
      "！\t記号,一般,*,*,*,*,！,！,！\n",
      "EOS\n",
      "\n"
     ]
    }
   ],
   "source": [
    "import MeCab\n",
    "tagger = MeCab.Tagger(\"-d /usr/local/lib/mecab/dic/mecab-ipadic-neologd\")\n",
    "result = tagger.parse(\"今日もお疲れ様でした！トランプ大統領！\")\n",
    "print(result)"
   ]
  },
  {
   "cell_type": "code",
   "execution_count": 9,
   "metadata": {},
   "outputs": [
    {
     "name": "stdout",
     "output_type": "stream",
     "text": [
      "['メイ', '恋ダンス', '踊る', 'いる']\n"
     ]
    }
   ],
   "source": [
    "import MeCab\n",
    "tagger = MeCab.Tagger(\"-d /usr/local/lib/mecab/dic/mecab-ipadic-neologd\")\n",
    "tagger.parse(\"\")\n",
    "node = tagger.parseToNode(\"メイが恋ダンスを踊っている。\")\n",
    "\n",
    "result = []\n",
    "while node is not None:\n",
    "    hinshi = node.feature.split(\",\")[0]\n",
    "    if hinshi in [\"名詞\"]:\n",
    "        result.append(node.surface)\n",
    "    elif hinshi in [\"動詞\", \"形容詞\"]:\n",
    "        result.append(node.feature.split(\",\")[6])\n",
    "    node = node.next\n",
    "    \n",
    "print(result)"
   ]
  },
  {
   "cell_type": "code",
   "execution_count": null,
   "metadata": {
    "collapsed": true
   },
   "outputs": [],
   "source": []
  }
 ],
 "metadata": {
  "kernelspec": {
   "display_name": "Python 3",
   "language": "python",
   "name": "python3"
  },
  "language_info": {
   "codemirror_mode": {
    "name": "ipython",
    "version": 3
   },
   "file_extension": ".py",
   "mimetype": "text/x-python",
   "name": "python",
   "nbconvert_exporter": "python",
   "pygments_lexer": "ipython3",
   "version": "3.6.5"
  }
 },
 "nbformat": 4,
 "nbformat_minor": 2
}
